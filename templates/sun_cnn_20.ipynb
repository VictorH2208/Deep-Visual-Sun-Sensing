{
 "cells": [
  {
   "cell_type": "code",
   "execution_count": 1,
   "metadata": {},
   "outputs": [],
   "source": [
    "import torch\n",
    "import torch.utils.data \n",
    "import numpy as np\n",
    "import scipy.io as sio\n",
    "import matplotlib.pyplot as plt\n",
    "from tqdm import tqdm\n",
    "import torch.nn as nn"
   ]
  },
  {
   "cell_type": "code",
   "execution_count": 2,
   "metadata": {},
   "outputs": [],
   "source": [
    "torch.backends.cudnn.deterministic = True\n",
    "torch.backends.cudnn.benchmark = False"
   ]
  },
  {
   "cell_type": "markdown",
   "metadata": {},
   "source": [
    "# Fix random seed"
   ]
  },
  {
   "cell_type": "code",
   "execution_count": 3,
   "metadata": {},
   "outputs": [
    {
     "data": {
      "text/plain": [
       "<torch._C.Generator at 0x1b1ff344eb0>"
      ]
     },
     "execution_count": 3,
     "metadata": {},
     "output_type": "execute_result"
    }
   ],
   "source": [
    "seed = 42\n",
    "np.random.seed(seed)\n",
    "torch.manual_seed(seed)"
   ]
  },
  {
   "cell_type": "markdown",
   "metadata": {},
   "source": [
    "# Cuda/MPS"
   ]
  },
  {
   "cell_type": "code",
   "execution_count": 4,
   "metadata": {},
   "outputs": [],
   "source": [
    "use_cuda_if_available = True"
   ]
  },
  {
   "cell_type": "markdown",
   "metadata": {},
   "source": [
    "# Dataloader"
   ]
  },
  {
   "cell_type": "code",
   "execution_count": 5,
   "metadata": {},
   "outputs": [],
   "source": [
    "### Define the custom PyTorch dataloader for this assignment\n",
    "class dataloader(torch.utils.data.Dataset):\n",
    "    \"\"\"Loads the KITTI Odometry Benchmark Dataset\"\"\"\n",
    "    def __init__(self, matfile, binsize=45, mode='train'):\n",
    "        self.data = sio.loadmat(matfile)\n",
    "        \n",
    "        self.images = self.data['images']\n",
    "        self.mode = mode\n",
    "\n",
    "        # Fill in this function if you wish to normalize the input\n",
    "        # Data to zero mean.\n",
    "        self.normalize_to_zero_mean()\n",
    "        \n",
    "        if self.mode != 'test':\n",
    "\n",
    "            # Generate targets for images by 'digitizing' each azimuth \n",
    "            # angle into the appropriate bin (from 0 to num_bins)\n",
    "            self.azimuth = self.data['azimuth']\n",
    "            bin_edges = np.arange(-180,180+1,binsize)\n",
    "            self.targets = (np.digitize(self.azimuth,bin_edges) -1).reshape((-1))\n",
    "\n",
    "    def normalize_to_zero_mean(self):\n",
    "        # Calculate the mean for each channel\n",
    "        mean = np.mean(self.images, axis=(0, 1, 2))\n",
    "        self.images = self.images - mean\n",
    "\n",
    "    def __len__(self):\n",
    "        return int(self.images.shape[0])\n",
    "  \n",
    "    def __getitem__(self, idx):\n",
    "        if self.mode != 'test':\n",
    "            return self.images[idx], self.targets[idx]    \n",
    "        else:\n",
    "            return self.images[idx]"
   ]
  },
  {
   "cell_type": "code",
   "execution_count": 6,
   "metadata": {},
   "outputs": [
    {
     "name": "stdout",
     "output_type": "stream",
     "text": [
      "finish loading data\n"
     ]
    }
   ],
   "source": [
    "binsize=20 #degrees **set this to 20 for part 2**\n",
    "bin_edges = np.arange(-180,180+1,binsize)\n",
    "num_bins = bin_edges.shape[0] - 1\n",
    "dsets = {x: dataloader('sun-cnn_{}.mat'.format(x),binsize=binsize) for x in ['train', 'val']} \n",
    "dset_loaders = {x: torch.utils.data.DataLoader(dsets[x], batch_size=64, shuffle=True, num_workers=0) for x in ['train', 'val']}\n",
    "print(\"finish loading data\")\n",
    "loss = {'train': [], 'val': []}\n",
    "top1err = {'train': [], 'val': []}\n",
    "top5err = {'train': [], 'val': []}\n",
    "best_err = 1"
   ]
  },
  {
   "cell_type": "markdown",
   "metadata": {},
   "source": [
    "# CNN Class"
   ]
  },
  {
   "cell_type": "code",
   "execution_count": 7,
   "metadata": {},
   "outputs": [],
   "source": [
    "class CNN(torch.nn.Module):\n",
    "    def __init__(self, num_bins): \n",
    "        super(CNN, self).__init__()\n",
    "\n",
    "        # Define the layers directly within the class\n",
    "        self.network = torch.nn.Sequential(\n",
    "            # First Convolutional Block\n",
    "            torch.nn.Conv2d(3, 32, kernel_size=7, stride=2, padding=3),\n",
    "            torch.nn.ReLU(),\n",
    "            torch.nn.BatchNorm2d(32),\n",
    "            torch.nn.MaxPool2d(kernel_size=3, stride=2, padding=1),\n",
    "            \n",
    "            # # Second Convolutional Block\n",
    "            # torch.nn.Conv2d(16, 32, kernel_size=7, padding=2),\n",
    "            # torch.nn.ReLU(),\n",
    "            # torch.nn.BatchNorm2d(32),\n",
    "            # torch.nn.MaxPool2d(kernel_size=2, stride=2),\n",
    "            \n",
    "            # Fourth Convolutional Block\n",
    "            torch.nn.Conv2d(32, 64, kernel_size=5, padding=1),\n",
    "            torch.nn.ReLU(),\n",
    "            torch.nn.BatchNorm2d(64),\n",
    "            torch.nn.MaxPool2d(kernel_size=2, stride=2),\n",
    "\n",
    "            torch.nn.Conv2d(64, 128, kernel_size=3, padding=1),\n",
    "            torch.nn.ReLU(),\n",
    "            torch.nn.BatchNorm2d(128),\n",
    "            torch.nn.MaxPool2d(kernel_size=2, stride=2),\n",
    "            \n",
    "            torch.nn.Conv2d(128, 256, kernel_size=3, padding=1),\n",
    "            torch.nn.ReLU(),\n",
    "            torch.nn.BatchNorm2d(256),\n",
    "            # Flatten the output for the fully connected layers\n",
    "            torch.nn.Flatten(),\n",
    "\n",
    "            # Fully Connected Layers\n",
    "            torch.nn.Linear(9984, 1024),\n",
    "            torch.nn.ReLU(),\n",
    "            torch.nn.Dropout(0.2),\n",
    "            torch.nn.Linear(1024, num_bins)\n",
    "        )\n",
    "\n",
    "        if use_cuda_if_available and torch.cuda.is_available():\n",
    "            self = self.cuda()\n",
    "\n",
    "    ###Define what the forward pass through the network is\n",
    "    def forward(self, x):\n",
    "        x = self.network(x)\n",
    "        x = x.squeeze() # (Batch_size x num_bins x 1 x 1) to (Batch_size x num_bins)\n",
    "\n",
    "        return x"
   ]
  },
  {
   "cell_type": "markdown",
   "metadata": {},
   "source": [
    "# Train"
   ]
  },
  {
   "cell_type": "markdown",
   "metadata": {},
   "source": [
    "## Network Initialization"
   ]
  },
  {
   "cell_type": "code",
   "execution_count": 8,
   "metadata": {},
   "outputs": [],
   "source": [
    "cnn = CNN(num_bins) #Initialize our CNN Class\n",
    "\n",
    "CE_loss = torch.nn.CrossEntropyLoss(reduction='sum') #initialize our loss (specifying that the output as a sum of all sample losses)\n",
    "params = list(cnn.parameters())\n",
    "optimizer = torch.optim.Adam(params, lr=0.0005, weight_decay= 0.0000001, amsgrad=True)"
   ]
  },
  {
   "cell_type": "markdown",
   "metadata": {},
   "source": [
    "## Training Loop"
   ]
  },
  {
   "cell_type": "code",
   "execution_count": 9,
   "metadata": {},
   "outputs": [
    {
     "name": "stderr",
     "output_type": "stream",
     "text": [
      "  0%|          | 0/15 [00:00<?, ?it/s]"
     ]
    },
    {
     "name": "stdout",
     "output_type": "stream",
     "text": [
      "train Loss: 0.47461248140169615\n",
      "train Top 1 Error: 0.1429358303497659\n",
      "train Top 5 Error: 0.03828146516111264\n"
     ]
    },
    {
     "name": "stderr",
     "output_type": "stream",
     "text": [
      "  7%|▋         | 1/15 [00:05<01:22,  5.93s/it]"
     ]
    },
    {
     "name": "stdout",
     "output_type": "stream",
     "text": [
      "val Loss: 2.127164738950595\n",
      "val Top 1 Error: 0.4154929577464789\n",
      "val Top 5 Error: 0.1732394366197183\n",
      "Completed Epoch 0\n",
      "train Loss: 0.08046381651156863\n",
      "train Top 1 Error: 0.023134122831175986\n",
      "train Top 5 Error: 0.000550812448361333\n"
     ]
    },
    {
     "name": "stderr",
     "output_type": "stream",
     "text": [
      " 13%|█▎        | 2/15 [00:08<00:52,  4.01s/it]"
     ]
    },
    {
     "name": "stdout",
     "output_type": "stream",
     "text": [
      "val Loss: 1.7467889812630666\n",
      "val Top 1 Error: 0.35492957746478876\n",
      "val Top 5 Error: 0.11830985915492957\n",
      "Completed Epoch 1\n",
      "train Loss: 0.061803957198612355\n",
      "train Top 1 Error: 0.018176810795923988\n",
      "train Top 5 Error: 0.0002754062241806665\n"
     ]
    },
    {
     "name": "stderr",
     "output_type": "stream",
     "text": [
      " 20%|██        | 3/15 [00:11<00:40,  3.37s/it]"
     ]
    },
    {
     "name": "stdout",
     "output_type": "stream",
     "text": [
      "val Loss: 3.197041610932686\n",
      "val Top 1 Error: 0.5915492957746479\n",
      "val Top 5 Error: 0.2\n",
      "Completed Epoch 2\n",
      "train Loss: 0.054943147288541494\n",
      "train Top 1 Error: 0.011567061415587993\n",
      "train Top 5 Error: 0.001101624896722666\n"
     ]
    },
    {
     "name": "stderr",
     "output_type": "stream",
     "text": [
      " 27%|██▋       | 4/15 [00:13<00:33,  3.07s/it]"
     ]
    },
    {
     "name": "stdout",
     "output_type": "stream",
     "text": [
      "val Loss: 2.506409540310712\n",
      "val Top 1 Error: 0.4197183098591549\n",
      "val Top 5 Error: 0.23098591549295774\n",
      "Completed Epoch 3\n",
      "train Loss: 0.040205917080812496\n",
      "train Top 1 Error: 0.010740842743045993\n",
      "train Top 5 Error: 0.0002754062241806665\n"
     ]
    },
    {
     "name": "stderr",
     "output_type": "stream",
     "text": [
      " 33%|███▎      | 5/15 [00:16<00:29,  2.95s/it]"
     ]
    },
    {
     "name": "stdout",
     "output_type": "stream",
     "text": [
      "val Loss: 2.1513454967821146\n",
      "val Top 1 Error: 0.4507042253521127\n",
      "val Top 5 Error: 0.2028169014084507\n",
      "Completed Epoch 4\n",
      "train Loss: 0.03951977261377248\n",
      "train Top 1 Error: 0.00853759294960066\n",
      "train Top 5 Error: 0.0\n"
     ]
    },
    {
     "name": "stderr",
     "output_type": "stream",
     "text": [
      " 40%|████      | 6/15 [00:19<00:26,  2.93s/it]"
     ]
    },
    {
     "name": "stdout",
     "output_type": "stream",
     "text": [
      "val Loss: 2.2950963517309915\n",
      "val Top 1 Error: 0.45211267605633804\n",
      "val Top 5 Error: 0.20140845070422536\n",
      "Completed Epoch 5\n",
      "train Loss: 0.026964024056587394\n",
      "train Top 1 Error: 0.007711374277058662\n",
      "train Top 5 Error: 0.0002754062241806665\n"
     ]
    },
    {
     "name": "stderr",
     "output_type": "stream",
     "text": [
      " 47%|████▋     | 7/15 [00:22<00:22,  2.84s/it]"
     ]
    },
    {
     "name": "stdout",
     "output_type": "stream",
     "text": [
      "val Loss: 2.5839682887977276\n",
      "val Top 1 Error: 0.4647887323943662\n",
      "val Top 5 Error: 0.223943661971831\n",
      "Completed Epoch 6\n",
      "train Loss: 0.012818795122786908\n",
      "train Top 1 Error: 0.0033048746901679976\n",
      "train Top 5 Error: 0.0\n"
     ]
    },
    {
     "name": "stderr",
     "output_type": "stream",
     "text": [
      " 53%|█████▎    | 8/15 [00:24<00:19,  2.77s/it]"
     ]
    },
    {
     "name": "stdout",
     "output_type": "stream",
     "text": [
      "val Loss: 2.4406113826053244\n",
      "val Top 1 Error: 0.44929577464788734\n",
      "val Top 5 Error: 0.21549295774647886\n",
      "Completed Epoch 7\n",
      "train Loss: 0.011384395316794117\n",
      "train Top 1 Error: 0.0024786560176259984\n",
      "train Top 5 Error: 0.0\n"
     ]
    },
    {
     "name": "stderr",
     "output_type": "stream",
     "text": [
      " 60%|██████    | 9/15 [00:27<00:16,  2.72s/it]"
     ]
    },
    {
     "name": "stdout",
     "output_type": "stream",
     "text": [
      "val Loss: 2.279163433800281\n",
      "val Top 1 Error: 0.4211267605633803\n",
      "val Top 5 Error: 0.18732394366197183\n",
      "Completed Epoch 8\n",
      "train Loss: 0.015705336503688626\n",
      "train Top 1 Error: 0.002754062241806665\n",
      "train Top 5 Error: 0.0\n"
     ]
    },
    {
     "name": "stderr",
     "output_type": "stream",
     "text": [
      " 67%|██████▋   | 10/15 [00:29<00:13,  2.69s/it]"
     ]
    },
    {
     "name": "stdout",
     "output_type": "stream",
     "text": [
      "val Loss: 2.521625914036388\n",
      "val Top 1 Error: 0.48450704225352115\n",
      "val Top 5 Error: 0.19014084507042253\n",
      "Completed Epoch 9\n",
      "train Loss: 0.02905274835997165\n",
      "train Top 1 Error: 0.00550812448361333\n",
      "train Top 5 Error: 0.0002754062241806665\n"
     ]
    },
    {
     "name": "stderr",
     "output_type": "stream",
     "text": [
      " 73%|███████▎  | 11/15 [00:32<00:10,  2.69s/it]"
     ]
    },
    {
     "name": "stdout",
     "output_type": "stream",
     "text": [
      "val Loss: 2.730322617544255\n",
      "val Top 1 Error: 0.48450704225352115\n",
      "val Top 5 Error: 0.24225352112676057\n",
      "Completed Epoch 10\n",
      "train Loss: 0.0217559033826802\n",
      "train Top 1 Error: 0.005783530707793996\n",
      "train Top 5 Error: 0.0002754062241806665\n"
     ]
    },
    {
     "name": "stderr",
     "output_type": "stream",
     "text": [
      " 80%|████████  | 12/15 [00:35<00:08,  2.67s/it]"
     ]
    },
    {
     "name": "stdout",
     "output_type": "stream",
     "text": [
      "val Loss: 2.7150585523793396\n",
      "val Top 1 Error: 0.44929577464788734\n",
      "val Top 5 Error: 0.1676056338028169\n",
      "Completed Epoch 11\n",
      "train Loss: 0.014849912458699873\n",
      "train Top 1 Error: 0.0033048746901679976\n",
      "train Top 5 Error: 0.0002754062241806665\n"
     ]
    },
    {
     "name": "stderr",
     "output_type": "stream",
     "text": [
      " 87%|████████▋ | 13/15 [00:37<00:05,  2.67s/it]"
     ]
    },
    {
     "name": "stdout",
     "output_type": "stream",
     "text": [
      "val Loss: 2.983387499795833\n",
      "val Top 1 Error: 0.47183098591549294\n",
      "val Top 5 Error: 0.18591549295774648\n",
      "Completed Epoch 12\n",
      "train Loss: 0.0371476370026646\n",
      "train Top 1 Error: 0.004957312035251997\n",
      "train Top 5 Error: 0.0008262186725419994\n"
     ]
    },
    {
     "name": "stderr",
     "output_type": "stream",
     "text": [
      " 93%|█████████▎| 14/15 [00:40<00:02,  2.66s/it]"
     ]
    },
    {
     "name": "stdout",
     "output_type": "stream",
     "text": [
      "val Loss: 2.749362691691224\n",
      "val Top 1 Error: 0.5169014084507042\n",
      "val Top 5 Error: 0.18873239436619718\n",
      "Completed Epoch 13\n",
      "train Loss: 0.024158514173266907\n",
      "train Top 1 Error: 0.00468190581107133\n",
      "train Top 5 Error: 0.0002754062241806665\n"
     ]
    },
    {
     "name": "stderr",
     "output_type": "stream",
     "text": [
      "100%|██████████| 15/15 [00:43<00:00,  2.88s/it]"
     ]
    },
    {
     "name": "stdout",
     "output_type": "stream",
     "text": [
      "val Loss: 4.057569562885123\n",
      "val Top 1 Error: 0.49577464788732395\n",
      "val Top 5 Error: 0.24647887323943662\n",
      "Completed Epoch 14\n",
      "Training Complete\n",
      "Lowest validation set error of 0.35 at epoch 1\n"
     ]
    },
    {
     "name": "stderr",
     "output_type": "stream",
     "text": [
      "\n"
     ]
    }
   ],
   "source": [
    "for epoch in tqdm(range(0,15)):\n",
    "    for mode in ['train', 'val']:    #iterate \n",
    "        epoch_loss=0\n",
    "        top1_incorrect = 0\n",
    "        top5_incorrect = 0\n",
    "        if mode == 'train':\n",
    "            cnn.train(True)    # Set model to training mode\n",
    "        else:\n",
    "            cnn.train(False)    # Set model to Evaluation mode\n",
    "            cnn.eval()\n",
    "        \n",
    "        dset_size = dset_loaders[mode].dataset.__len__()\n",
    "        for image, target in dset_loaders[mode]:    #Iterate through all data (each iteration loads a minibatch)\n",
    "            # Cast to types and Load GPU if desired and available\n",
    "            if use_cuda_if_available and torch.cuda.is_available():\n",
    "                image = image.cuda().type(torch.cuda.FloatTensor)\n",
    "                target = target.cuda().type(torch.cuda.LongTensor)\n",
    "            else:\n",
    "                image = image.type(torch.FloatTensor)\n",
    "                target = target.type(torch.LongTensor)\n",
    "            optimizer.zero_grad()    #zero the gradients of the cnn weights prior to backprop\n",
    "            pred = cnn(image)   # Forward pass through the network\n",
    "            minibatch_loss = CE_loss(pred, target)  #Compute the minibatch loss\n",
    "            epoch_loss += minibatch_loss.item() #Add minibatch loss to the epoch loss \n",
    "            \n",
    "            if mode == 'train': #only backprop through training loss and not validation loss       \n",
    "                minibatch_loss.backward()\n",
    "                optimizer.step()        \n",
    "                    \n",
    "            \n",
    "            _, predicted = torch.max(pred.data, 1) #from the network output, get the class prediction\n",
    "            top1_incorrect += (predicted != target).sum().item() #compute the Top 1 error rate\n",
    "            \n",
    "            top5_val, top5_idx = torch.topk(pred.data,5,dim=1)\n",
    "            top5_incorrect += ((top5_idx != target.view((-1,1))).sum(dim=1) == 5).sum().item() #compute the top5 error rate\n",
    "\n",
    "        loss[mode].append(epoch_loss/dset_size)\n",
    "        top1err[mode].append(top1_incorrect/dset_size)\n",
    "        top5err[mode].append(top5_incorrect/dset_size)\n",
    "\n",
    "        print(\"{} Loss: {}\".format(mode, loss[mode][epoch]))\n",
    "        print(\"{} Top 1 Error: {}\".format(mode, top1err[mode][epoch]))    \n",
    "        print(\"{} Top 5 Error: {}\".format(mode, top5err[mode][epoch])) \n",
    "        if mode == 'val':\n",
    "            print(\"Completed Epoch {}\".format(epoch))\n",
    "            if top1err['val'][epoch] < best_err:\n",
    "                best_err = top1err['val'][epoch]\n",
    "                best_epoch = epoch\n",
    "                torch.save(cnn.state_dict(), 'best_model_{}.pth'.format(binsize))\n",
    "\n",
    "print(\"Training Complete\")\n",
    "print(\"Lowest validation set error of {} at epoch {}\".format(np.round(best_err,2), best_epoch))        "
   ]
  },
  {
   "cell_type": "markdown",
   "metadata": {},
   "source": [
    "## Plot"
   ]
  },
  {
   "cell_type": "code",
   "execution_count": 10,
   "metadata": {},
   "outputs": [
    {
     "data": {
      "image/png": "[encoded data removed]",
      "text/plain": [
       "<Figure size 640x480 with 3 Axes>"
      ]
     },
     "metadata": {},
     "output_type": "display_data"
    }
   ],
   "source": [
    "fig, (ax1,ax2,ax3) = plt.subplots(1,3)\n",
    "ax1.grid()\n",
    "ax1.plot(loss['train'],linewidth=2)\n",
    "ax1.plot(loss['val'],linewidth=2)\n",
    "#ax1.legend(['Train', 'Val'],fontsize=12)\n",
    "ax1.legend(['Train', 'Val'])\n",
    "ax1.set_title('Objective', fontsize=18, color='black')\n",
    "ax1.set_xlabel('Epoch', fontsize=12)\n",
    "\n",
    "ax2.grid()\n",
    "ax2.plot(top1err['train'],linewidth=2)\n",
    "ax2.plot(top1err['val'],linewidth=2)\n",
    "ax2.legend(['Train', 'Val'])\n",
    "ax2.set_title('Top 1 Error', fontsize=18, color='black')\n",
    "ax2.set_xlabel('Epoch', fontsize=12)\n",
    "\n",
    "ax3.grid()\n",
    "ax3.plot(top5err['train'],linewidth=2)\n",
    "ax3.plot(top5err['val'],linewidth=2)\n",
    "ax3.legend(['Train', 'Val'])\n",
    "ax3.set_title('Top 5 Error', fontsize=18, color='black')\n",
    "ax3.set_xlabel('Epoch', fontsize=12)\n",
    "plt.tight_layout()\n",
    "plt.show()\n",
    "fig.savefig('net-train.pdf')"
   ]
  }
 ],
 "metadata": {
  "kernelspec": {
   "display_name": ".venv",
   "language": "python",
   "name": "python3"
  },
  "language_info": {
   "codemirror_mode": {
    "name": "ipython",
    "version": 3
   },
   "file_extension": ".py",
   "mimetype": "text/x-python",
   "name": "python",
   "nbconvert_exporter": "python",
   "pygments_lexer": "ipython3",
   "version": "3.10.9"
  }
 },
 "nbformat": 4,
 "nbformat_minor": 2
}
