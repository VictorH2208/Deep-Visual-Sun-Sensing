{
 "cells": [
  {
   "cell_type": "code",
   "execution_count": 1,
   "metadata": {},
   "outputs": [],
   "source": [
    "import torch\n",
    "import torch.utils.data \n",
    "import numpy as np\n",
    "import scipy.io as sio\n",
    "import matplotlib.pyplot as plt\n",
    "from tqdm import tqdm"
   ]
  },
  {
   "cell_type": "code",
   "execution_count": 2,
   "metadata": {},
   "outputs": [],
   "source": [
    "torch.backends.cudnn.deterministic = True\n",
    "torch.backends.cudnn.benchmark = False"
   ]
  },
  {
   "cell_type": "markdown",
   "metadata": {},
   "source": [
    "# Fix random seed"
   ]
  },
  {
   "cell_type": "code",
   "execution_count": 3,
   "metadata": {},
   "outputs": [
    {
     "data": {
      "text/plain": [
       "<torch._C.Generator at 0x1a6e27dceb0>"
      ]
     },
     "execution_count": 3,
     "metadata": {},
     "output_type": "execute_result"
    }
   ],
   "source": [
    "seed = 42\n",
    "np.random.seed(seed)\n",
    "torch.manual_seed(seed)"
   ]
  },
  {
   "cell_type": "markdown",
   "metadata": {},
   "source": [
    "# Cuda/MPS"
   ]
  },
  {
   "cell_type": "code",
   "execution_count": 4,
   "metadata": {},
   "outputs": [],
   "source": [
    "use_cuda_if_available = True"
   ]
  },
  {
   "cell_type": "markdown",
   "metadata": {},
   "source": [
    "# Dataloader"
   ]
  },
  {
   "cell_type": "code",
   "execution_count": 5,
   "metadata": {},
   "outputs": [],
   "source": [
    "### Define the custom PyTorch dataloader for this assignment\n",
    "class dataloader(torch.utils.data.Dataset):\n",
    "    \"\"\"Loads the KITTI Odometry Benchmark Dataset\"\"\"\n",
    "    def __init__(self, matfile, binsize=45, mode='train'):\n",
    "        self.data = sio.loadmat(matfile)\n",
    "        \n",
    "        self.images = self.data['images']\n",
    "        self.mode = mode\n",
    "\n",
    "        # Fill in this function if you wish to normalize the input\n",
    "        # Data to zero mean.\n",
    "        self.normalize_to_zero_mean()\n",
    "        \n",
    "        if self.mode != 'test':\n",
    "\n",
    "            # Generate targets for images by 'digitizing' each azimuth \n",
    "            # angle into the appropriate bin (from 0 to num_bins)\n",
    "            self.azimuth = self.data['azimuth']\n",
    "            bin_edges = np.arange(-180,180+1,binsize)\n",
    "            self.targets = (np.digitize(self.azimuth,bin_edges) -1).reshape((-1))\n",
    "\n",
    "    def normalize_to_zero_mean(self):\n",
    "        # Calculate the mean for each channel\n",
    "        mean = np.mean(self.images, axis=(0, 1, 2))\n",
    "        self.images = self.images - mean\n",
    "\n",
    "    def __len__(self):\n",
    "        return int(self.images.shape[0])\n",
    "  \n",
    "    def __getitem__(self, idx):\n",
    "        if self.mode != 'test':\n",
    "            return self.images[idx], self.targets[idx]    \n",
    "        else:\n",
    "            return self.images[idx]"
   ]
  },
  {
   "cell_type": "code",
   "execution_count": 6,
   "metadata": {},
   "outputs": [
    {
     "name": "stdout",
     "output_type": "stream",
     "text": [
      "finish loading data\n"
     ]
    }
   ],
   "source": [
    "binsize=45 #degrees **set this to 20 for part 2**\n",
    "bin_edges = np.arange(-180,180+1,binsize)\n",
    "num_bins = bin_edges.shape[0] - 1\n",
    "dsets = {x: dataloader('sun-cnn_{}.mat'.format(x),binsize=binsize) for x in ['train', 'val']} \n",
    "dset_loaders = {x: torch.utils.data.DataLoader(dsets[x], batch_size=64, shuffle=True, num_workers=0) for x in ['train', 'val']}\n",
    "print(\"finish loading data\")\n",
    "loss = {'train': [], 'val': []}\n",
    "top1err = {'train': [], 'val': []}\n",
    "top5err = {'train': [], 'val': []}\n",
    "best_err = 1"
   ]
  },
  {
   "cell_type": "markdown",
   "metadata": {},
   "source": [
    "# CNN Class"
   ]
  },
  {
   "cell_type": "code",
   "execution_count": 7,
   "metadata": {},
   "outputs": [],
   "source": [
    "class CNN(torch.nn.Module):\n",
    "    def __init__(self, num_bins): \n",
    "        super(CNN, self).__init__()\n",
    "\n",
    "        # Define the layers directly within the class\n",
    "        self.network = torch.nn.Sequential(\n",
    "            # First Convolutional Block\n",
    "            torch.nn.Conv2d(3, 32, kernel_size=3, stride=2, padding=3),\n",
    "            torch.nn.ReLU(),\n",
    "            torch.nn.BatchNorm2d(32),\n",
    "            torch.nn.MaxPool2d(kernel_size=3, stride=2, padding=1),\n",
    "            \n",
    "            # Second Convolutional Block\n",
    "            torch.nn.Conv2d(32, 64, kernel_size=3, padding=2),\n",
    "            torch.nn.ReLU(),\n",
    "            torch.nn.BatchNorm2d(64),\n",
    "            torch.nn.MaxPool2d(kernel_size=2, stride=2),\n",
    "            \n",
    "            # Third Convolutional Block\n",
    "            torch.nn.Conv2d(64, 128, kernel_size=3, padding=1),\n",
    "            torch.nn.ReLU(),\n",
    "            torch.nn.BatchNorm2d(128),\n",
    "            torch.nn.MaxPool2d(kernel_size=2, stride=2),\n",
    "            \n",
    "            # Fourth Convolutional Block\n",
    "            torch.nn.Conv2d(128, 256, kernel_size=3, padding=1),\n",
    "            torch.nn.ReLU(),\n",
    "            torch.nn.BatchNorm2d(256),\n",
    "            torch.nn.MaxPool2d(kernel_size=2, stride=2),\n",
    "\n",
    "            torch.nn.Conv2d(256, 256, kernel_size=3, padding=1),\n",
    "            torch.nn.ReLU(),\n",
    "            torch.nn.BatchNorm2d(256),\n",
    "            torch.nn.MaxPool2d(kernel_size=2, stride=2),\n",
    "\n",
    "            # Flatten the output for the fully connected layers\n",
    "            torch.nn.Flatten(),\n",
    "\n",
    "            # Fully Connected Layers\n",
    "            torch.nn.Linear(768, 1024),\n",
    "            torch.nn.ReLU(),\n",
    "            torch.nn.Dropout(0.2),\n",
    "            torch.nn.Linear(1024, num_bins)\n",
    "        )\n",
    "\n",
    "        if use_cuda_if_available and torch.cuda.is_available():\n",
    "            self = self.cuda()\n",
    "\n",
    "    ###Define what the forward pass through the network is\n",
    "    def forward(self, x):\n",
    "        x = self.network(x)\n",
    "        x = x.squeeze() # (Batch_size x num_bins x 1 x 1) to (Batch_size x num_bins)\n",
    "\n",
    "        return x"
   ]
  },
  {
   "cell_type": "markdown",
   "metadata": {},
   "source": [
    "# Train"
   ]
  },
  {
   "cell_type": "markdown",
   "metadata": {},
   "source": [
    "## Network Initialization"
   ]
  },
  {
   "cell_type": "code",
   "execution_count": 8,
   "metadata": {},
   "outputs": [],
   "source": [
    "cnn = CNN(num_bins) #Initialize our CNN Class\n",
    "CE_loss = torch.nn.CrossEntropyLoss(reduction='sum') #initialize our loss (specifying that the output as a sum of all sample losses)\n",
    "params = list(cnn.parameters())\n",
    "optimizer = torch.optim.Adam(params, lr=0.001, weight_decay=0.000001, amsgrad=True)"
   ]
  },
  {
   "cell_type": "markdown",
   "metadata": {},
   "source": [
    "## Training Loop"
   ]
  },
  {
   "cell_type": "code",
   "execution_count": 9,
   "metadata": {},
   "outputs": [
    {
     "name": "stderr",
     "output_type": "stream",
     "text": [
      "  0%|          | 0/20 [00:00<?, ?it/s]"
     ]
    },
    {
     "name": "stdout",
     "output_type": "stream",
     "text": [
      "train Loss: 0.4111999561227868\n",
      "train Top 1 Error: 0.13660148719361057\n",
      "train Top 5 Error: 0.017901404571743322\n"
     ]
    },
    {
     "name": "stderr",
     "output_type": "stream",
     "text": [
      "  5%|▌         | 1/20 [00:10<03:22, 10.65s/it]"
     ]
    },
    {
     "name": "stdout",
     "output_type": "stream",
     "text": [
      "val Loss: 1.9040119916620388\n",
      "val Top 1 Error: 0.38028169014084506\n",
      "val Top 5 Error: 0.176056338028169\n",
      "Completed Epoch 0\n",
      "train Loss: 0.09014686599837556\n",
      "train Top 1 Error: 0.03167171578077665\n",
      "train Top 5 Error: 0.0\n"
     ]
    },
    {
     "name": "stderr",
     "output_type": "stream",
     "text": [
      " 10%|█         | 2/20 [00:13<01:49,  6.07s/it]"
     ]
    },
    {
     "name": "stdout",
     "output_type": "stream",
     "text": [
      "val Loss: 1.4625661393286478\n",
      "val Top 1 Error: 0.3647887323943662\n",
      "val Top 5 Error: 0.0323943661971831\n",
      "Completed Epoch 1\n",
      "train Loss: 0.09792243068587908\n",
      "train Top 1 Error: 0.032497934453318646\n",
      "train Top 5 Error: 0.0002754062241806665\n"
     ]
    },
    {
     "name": "stderr",
     "output_type": "stream",
     "text": [
      " 15%|█▌        | 3/20 [00:16<01:17,  4.53s/it]"
     ]
    },
    {
     "name": "stdout",
     "output_type": "stream",
     "text": [
      "val Loss: 0.9512575777483658\n",
      "val Top 1 Error: 0.2943661971830986\n",
      "val Top 5 Error: 0.007042253521126761\n",
      "Completed Epoch 2\n",
      "train Loss: 0.06830920195307032\n",
      "train Top 1 Error: 0.020104654365188653\n",
      "train Top 5 Error: 0.0\n"
     ]
    },
    {
     "name": "stderr",
     "output_type": "stream",
     "text": [
      " 20%|██        | 4/20 [00:18<01:00,  3.80s/it]"
     ]
    },
    {
     "name": "stdout",
     "output_type": "stream",
     "text": [
      "val Loss: 3.083203963158836\n",
      "val Top 1 Error: 0.46056338028169014\n",
      "val Top 5 Error: 0.07746478873239436\n",
      "Completed Epoch 3\n",
      "train Loss: 0.03588672642088468\n",
      "train Top 1 Error: 0.011567061415587993\n",
      "train Top 5 Error: 0.0\n"
     ]
    },
    {
     "name": "stderr",
     "output_type": "stream",
     "text": [
      " 25%|██▌       | 5/20 [00:21<00:50,  3.39s/it]"
     ]
    },
    {
     "name": "stdout",
     "output_type": "stream",
     "text": [
      "val Loss: 1.0101375237317152\n",
      "val Top 1 Error: 0.2619718309859155\n",
      "val Top 5 Error: 0.016901408450704224\n",
      "Completed Epoch 4\n",
      "train Loss: 0.05746165548711071\n",
      "train Top 1 Error: 0.014596529881575324\n",
      "train Top 5 Error: 0.0002754062241806665\n"
     ]
    },
    {
     "name": "stderr",
     "output_type": "stream",
     "text": [
      " 30%|███       | 6/20 [00:24<00:44,  3.15s/it]"
     ]
    },
    {
     "name": "stdout",
     "output_type": "stream",
     "text": [
      "val Loss: 0.7759408930657615\n",
      "val Top 1 Error: 0.2084507042253521\n",
      "val Top 5 Error: 0.0014084507042253522\n",
      "Completed Epoch 5\n",
      "train Loss: 0.022704119548607845\n",
      "train Top 1 Error: 0.006058936931974662\n",
      "train Top 5 Error: 0.0\n"
     ]
    },
    {
     "name": "stderr",
     "output_type": "stream",
     "text": [
      " 35%|███▌      | 7/20 [00:26<00:38,  2.97s/it]"
     ]
    },
    {
     "name": "stdout",
     "output_type": "stream",
     "text": [
      "val Loss: 1.534007075135137\n",
      "val Top 1 Error: 0.3154929577464789\n",
      "val Top 5 Error: 0.04647887323943662\n",
      "Completed Epoch 6\n",
      "train Loss: 0.014318157647126175\n",
      "train Top 1 Error: 0.004131093362709997\n",
      "train Top 5 Error: 0.0\n"
     ]
    },
    {
     "name": "stderr",
     "output_type": "stream",
     "text": [
      " 40%|████      | 8/20 [00:29<00:34,  2.85s/it]"
     ]
    },
    {
     "name": "stdout",
     "output_type": "stream",
     "text": [
      "val Loss: 1.2929981120875185\n",
      "val Top 1 Error: 0.2915492957746479\n",
      "val Top 5 Error: 0.02676056338028169\n",
      "Completed Epoch 7\n",
      "train Loss: 0.012099058150960924\n",
      "train Top 1 Error: 0.0033048746901679976\n",
      "train Top 5 Error: 0.0\n"
     ]
    },
    {
     "name": "stderr",
     "output_type": "stream",
     "text": [
      " 45%|████▌     | 9/20 [00:32<00:30,  2.79s/it]"
     ]
    },
    {
     "name": "stdout",
     "output_type": "stream",
     "text": [
      "val Loss: 1.1121463453265983\n",
      "val Top 1 Error: 0.2647887323943662\n",
      "val Top 5 Error: 0.014084507042253521\n",
      "Completed Epoch 8\n",
      "train Loss: 0.0030270520300422037\n",
      "train Top 1 Error: 0.0008262186725419994\n",
      "train Top 5 Error: 0.0\n"
     ]
    },
    {
     "name": "stderr",
     "output_type": "stream",
     "text": [
      " 50%|█████     | 10/20 [00:34<00:27,  2.73s/it]"
     ]
    },
    {
     "name": "stdout",
     "output_type": "stream",
     "text": [
      "val Loss: 1.870006418899751\n",
      "val Top 1 Error: 0.36338028169014086\n",
      "val Top 5 Error: 0.023943661971830985\n",
      "Completed Epoch 9\n",
      "train Loss: 0.0019555010645478732\n",
      "train Top 1 Error: 0.0008262186725419994\n",
      "train Top 5 Error: 0.0\n"
     ]
    },
    {
     "name": "stderr",
     "output_type": "stream",
     "text": [
      " 55%|█████▌    | 11/20 [00:37<00:24,  2.76s/it]"
     ]
    },
    {
     "name": "stdout",
     "output_type": "stream",
     "text": [
      "val Loss: 1.3185761209944604\n",
      "val Top 1 Error: 0.30140845070422534\n",
      "val Top 5 Error: 0.01971830985915493\n",
      "Completed Epoch 10\n",
      "train Loss: 0.007846768269599042\n",
      "train Top 1 Error: 0.002203249793445332\n",
      "train Top 5 Error: 0.0\n"
     ]
    },
    {
     "name": "stderr",
     "output_type": "stream",
     "text": [
      " 60%|██████    | 12/20 [00:40<00:22,  2.79s/it]"
     ]
    },
    {
     "name": "stdout",
     "output_type": "stream",
     "text": [
      "val Loss: 2.561999259196537\n",
      "val Top 1 Error: 0.4014084507042254\n",
      "val Top 5 Error: 0.022535211267605635\n",
      "Completed Epoch 11\n",
      "train Loss: 0.011778803285251337\n",
      "train Top 1 Error: 0.003029468465987331\n",
      "train Top 5 Error: 0.0\n"
     ]
    },
    {
     "name": "stderr",
     "output_type": "stream",
     "text": [
      " 65%|██████▌   | 13/20 [00:43<00:20,  2.86s/it]"
     ]
    },
    {
     "name": "stdout",
     "output_type": "stream",
     "text": [
      "val Loss: 1.790290135397038\n",
      "val Top 1 Error: 0.3816901408450704\n",
      "val Top 5 Error: 0.035211267605633804\n",
      "Completed Epoch 12\n",
      "train Loss: 0.023093869074506064\n",
      "train Top 1 Error: 0.00468190581107133\n",
      "train Top 5 Error: 0.0\n"
     ]
    },
    {
     "name": "stderr",
     "output_type": "stream",
     "text": [
      " 70%|███████   | 14/20 [00:46<00:16,  2.81s/it]"
     ]
    },
    {
     "name": "stdout",
     "output_type": "stream",
     "text": [
      "val Loss: 2.0997705862555707\n",
      "val Top 1 Error: 0.3929577464788732\n",
      "val Top 5 Error: 0.02676056338028169\n",
      "Completed Epoch 13\n",
      "train Loss: 0.033897022816476434\n",
      "train Top 1 Error: 0.007435968052877995\n",
      "train Top 5 Error: 0.0\n"
     ]
    },
    {
     "name": "stderr",
     "output_type": "stream",
     "text": [
      " 75%|███████▌  | 15/20 [00:48<00:13,  2.76s/it]"
     ]
    },
    {
     "name": "stdout",
     "output_type": "stream",
     "text": [
      "val Loss: 1.2527918600700272\n",
      "val Top 1 Error: 0.3267605633802817\n",
      "val Top 5 Error: 0.011267605633802818\n",
      "Completed Epoch 14\n",
      "train Loss: 0.020977032433705894\n",
      "train Top 1 Error: 0.004406499586890664\n",
      "train Top 5 Error: 0.0\n"
     ]
    },
    {
     "name": "stderr",
     "output_type": "stream",
     "text": [
      " 80%|████████  | 16/20 [00:51<00:10,  2.74s/it]"
     ]
    },
    {
     "name": "stdout",
     "output_type": "stream",
     "text": [
      "val Loss: 1.3282465706408864\n",
      "val Top 1 Error: 0.29014084507042254\n",
      "val Top 5 Error: 0.01267605633802817\n",
      "Completed Epoch 15\n",
      "train Loss: 0.01006204356893146\n",
      "train Top 1 Error: 0.003855687138529331\n",
      "train Top 5 Error: 0.0\n"
     ]
    },
    {
     "name": "stderr",
     "output_type": "stream",
     "text": [
      " 85%|████████▌ | 17/20 [00:54<00:08,  2.72s/it]"
     ]
    },
    {
     "name": "stdout",
     "output_type": "stream",
     "text": [
      "val Loss: 1.772296250034386\n",
      "val Top 1 Error: 0.33661971830985915\n",
      "val Top 5 Error: 0.014084507042253521\n",
      "Completed Epoch 16\n",
      "train Loss: 0.019581217181806523\n",
      "train Top 1 Error: 0.00468190581107133\n",
      "train Top 5 Error: 0.0\n"
     ]
    },
    {
     "name": "stderr",
     "output_type": "stream",
     "text": [
      " 90%|█████████ | 18/20 [00:56<00:05,  2.70s/it]"
     ]
    },
    {
     "name": "stdout",
     "output_type": "stream",
     "text": [
      "val Loss: 3.559198110875949\n",
      "val Top 1 Error: 0.5366197183098591\n",
      "val Top 5 Error: 0.056338028169014086\n",
      "Completed Epoch 17\n",
      "train Loss: 0.025807579363463125\n",
      "train Top 1 Error: 0.006885155604516662\n",
      "train Top 5 Error: 0.0002754062241806665\n"
     ]
    },
    {
     "name": "stderr",
     "output_type": "stream",
     "text": [
      " 95%|█████████▌| 19/20 [00:59<00:02,  2.68s/it]"
     ]
    },
    {
     "name": "stdout",
     "output_type": "stream",
     "text": [
      "val Loss: 1.525428842658728\n",
      "val Top 1 Error: 0.36619718309859156\n",
      "val Top 5 Error: 0.02535211267605634\n",
      "Completed Epoch 18\n",
      "train Loss: 0.02140442541249238\n",
      "train Top 1 Error: 0.00468190581107133\n",
      "train Top 5 Error: 0.0\n"
     ]
    },
    {
     "name": "stderr",
     "output_type": "stream",
     "text": [
      "100%|██████████| 20/20 [01:02<00:00,  3.10s/it]"
     ]
    },
    {
     "name": "stdout",
     "output_type": "stream",
     "text": [
      "val Loss: 1.161742165726675\n",
      "val Top 1 Error: 0.2591549295774648\n",
      "val Top 5 Error: 0.02112676056338028\n",
      "Completed Epoch 19\n",
      "Training Complete\n",
      "Lowest validation set error of 0.21 at epoch 5\n"
     ]
    },
    {
     "name": "stderr",
     "output_type": "stream",
     "text": [
      "\n"
     ]
    }
   ],
   "source": [
    "for epoch in tqdm(range(0,20)):\n",
    "    for mode in ['train', 'val']:    #iterate \n",
    "        epoch_loss=0\n",
    "        top1_incorrect = 0\n",
    "        top5_incorrect = 0\n",
    "        if mode == 'train':\n",
    "            cnn.train(True)    # Set model to training mode\n",
    "        else:\n",
    "            cnn.train(False)    # Set model to Evaluation mode\n",
    "            cnn.eval()\n",
    "        \n",
    "        dset_size = dset_loaders[mode].dataset.__len__()\n",
    "        for image, target in dset_loaders[mode]:    #Iterate through all data (each iteration loads a minibatch)\n",
    "            # Cast to types and Load GPU if desired and available\n",
    "            if use_cuda_if_available and torch.cuda.is_available():\n",
    "                image = image.cuda().type(torch.cuda.FloatTensor)\n",
    "                target = target.cuda().type(torch.cuda.LongTensor)\n",
    "            else:\n",
    "                image = image.type(torch.FloatTensor)\n",
    "                target = target.type(torch.LongTensor)\n",
    "            optimizer.zero_grad()    #zero the gradients of the cnn weights prior to backprop\n",
    "            pred = cnn(image)   # Forward pass through the network\n",
    "            minibatch_loss = CE_loss(pred, target)  #Compute the minibatch loss\n",
    "            epoch_loss += minibatch_loss.item() #Add minibatch loss to the epoch loss \n",
    "            \n",
    "            if mode == 'train': #only backprop through training loss and not validation loss       \n",
    "                minibatch_loss.backward()\n",
    "                optimizer.step()        \n",
    "                    \n",
    "            \n",
    "            _, predicted = torch.max(pred.data, 1) #from the network output, get the class prediction\n",
    "            top1_incorrect += (predicted != target).sum().item() #compute the Top 1 error rate\n",
    "            \n",
    "            top5_val, top5_idx = torch.topk(pred.data,5,dim=1)\n",
    "            top5_incorrect += ((top5_idx != target.view((-1,1))).sum(dim=1) == 5).sum().item() #compute the top5 error rate\n",
    "\n",
    "        loss[mode].append(epoch_loss/dset_size)\n",
    "        top1err[mode].append(top1_incorrect/dset_size)\n",
    "        top5err[mode].append(top5_incorrect/dset_size)\n",
    "\n",
    "        print(\"{} Loss: {}\".format(mode, loss[mode][epoch]))\n",
    "        print(\"{} Top 1 Error: {}\".format(mode, top1err[mode][epoch]))    \n",
    "        print(\"{} Top 5 Error: {}\".format(mode, top5err[mode][epoch])) \n",
    "        if mode == 'val':\n",
    "            print(\"Completed Epoch {}\".format(epoch))\n",
    "            if top1err['val'][epoch] < best_err:\n",
    "                best_err = top1err['val'][epoch]\n",
    "                best_epoch = epoch\n",
    "                torch.save(cnn.state_dict(), 'best_model_{}.pth'.format(binsize))\n",
    "print(\"Training Complete\")\n",
    "print(\"Lowest validation set error of {} at epoch {}\".format(np.round(best_err,2), best_epoch))        "
   ]
  },
  {
   "cell_type": "code",
   "execution_count": 10,
   "metadata": {},
   "outputs": [
    {
     "data": {
      "image/png": "[encoded data removed]",
      "text/plain": [
       "<Figure size 640x480 with 3 Axes>"
      ]
     },
     "metadata": {},
     "output_type": "display_data"
    }
   ],
   "source": [
    "fig, (ax1,ax2,ax3) = plt.subplots(1,3)\n",
    "ax1.grid()\n",
    "ax1.plot(loss['train'],linewidth=2)\n",
    "ax1.plot(loss['val'],linewidth=2)\n",
    "#ax1.legend(['Train', 'Val'],fontsize=12)\n",
    "ax1.legend(['Train', 'Val'])\n",
    "ax1.set_title('Objective', fontsize=18, color='black')\n",
    "ax1.set_xlabel('Epoch', fontsize=12)\n",
    "\n",
    "ax2.grid()\n",
    "ax2.plot(top1err['train'],linewidth=2)\n",
    "ax2.plot(top1err['val'],linewidth=2)\n",
    "ax2.legend(['Train', 'Val'])\n",
    "ax2.set_title('Top 1 Error', fontsize=18, color='black')\n",
    "ax2.set_xlabel('Epoch', fontsize=12)\n",
    "\n",
    "ax3.grid()\n",
    "ax3.plot(top5err['train'],linewidth=2)\n",
    "ax3.plot(top5err['val'],linewidth=2)\n",
    "ax3.legend(['Train', 'Val'])\n",
    "ax3.set_title('Top 5 Error', fontsize=18, color='black')\n",
    "ax3.set_xlabel('Epoch', fontsize=12)\n",
    "plt.tight_layout()\n",
    "plt.show()\n",
    "# fig.savefig('net-train.pdf')"
   ]
  }
 ],
 "metadata": {
  "kernelspec": {
   "display_name": ".venv",
   "language": "python",
   "name": "python3"
  },
  "language_info": {
   "codemirror_mode": {
    "name": "ipython",
    "version": 3
   },
   "file_extension": ".py",
   "mimetype": "text/x-python",
   "name": "python",
   "nbconvert_exporter": "python",
   "pygments_lexer": "ipython3",
   "version": "3.10.9"
  }
 },
 "nbformat": 4,
 "nbformat_minor": 2
}
